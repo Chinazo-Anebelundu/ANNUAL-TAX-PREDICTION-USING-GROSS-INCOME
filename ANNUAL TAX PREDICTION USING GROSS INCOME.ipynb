{
 "cells": [
  {
   "cell_type": "markdown",
   "metadata": {},
   "source": [
    "### IMPORTING DEPENDENCIES"
   ]
  },
  {
   "cell_type": "code",
   "execution_count": 2,
   "metadata": {},
   "outputs": [],
   "source": [
    "import pandas as pd\n",
    "import numpy as np\n",
    "import matplotlib.pyplot as plt\n",
    "import seaborn as sns\n",
    "%matplotlib inline"
   ]
  },
  {
   "cell_type": "markdown",
   "metadata": {},
   "source": [
    "IMPORTING THE DATASET"
   ]
  },
  {
   "cell_type": "code",
   "execution_count": 59,
   "metadata": {},
   "outputs": [],
   "source": [
    "data = pd.read_excel(\"tax data.xlsx\" )   #dtype = {\"ANNUAL TAX\": int, \"NUMBER OF MONTHS\": int}  #skiprows = 1"
   ]
  },
  {
   "cell_type": "markdown",
   "metadata": {},
   "source": [
    "### DATA PRE-PROCESSING"
   ]
  },
  {
   "cell_type": "code",
   "execution_count": 4,
   "metadata": {},
   "outputs": [
    {
     "data": {
      "text/plain": [
       "NATIONALITY            0\n",
       "DESIGNATION            0\n",
       "SECTOR                 0\n",
       "GROSS INCOME           0\n",
       "ANNUAL TAX             0\n",
       "NUMBER OF MONTHS    1553\n",
       "dtype: int64"
      ]
     },
     "execution_count": 4,
     "metadata": {},
     "output_type": "execute_result"
    }
   ],
   "source": [
    "data.isna().sum()"
   ]
  },
  {
   "cell_type": "code",
   "execution_count": 60,
   "metadata": {},
   "outputs": [],
   "source": [
    "data[\"NUMBER OF MONTHS\"].fillna(data[\"NUMBER OF MONTHS\"].mean(), inplace = True)"
   ]
  },
  {
   "cell_type": "code",
   "execution_count": 6,
   "metadata": {},
   "outputs": [
    {
     "data": {
      "text/plain": [
       "NATIONALITY          object\n",
       "DESIGNATION          object\n",
       "SECTOR               object\n",
       "GROSS INCOME        float64\n",
       "ANNUAL TAX          float64\n",
       "NUMBER OF MONTHS    float64\n",
       "dtype: object"
      ]
     },
     "execution_count": 6,
     "metadata": {},
     "output_type": "execute_result"
    }
   ],
   "source": [
    "data.dtypes"
   ]
  },
  {
   "cell_type": "code",
   "execution_count": null,
   "metadata": {},
   "outputs": [],
   "source": [
    "#data[\"NUMBER OF MONTHS\"] = pd.to_numeric(data[\"NUMBER OF MONTHS\"], errors = \"coerce\")\n",
    "#data[\"NUMBER OF MONTHS\"].fillna(data[\"NUMBER OF MONTHS\"].mean(), inplace = True)\n",
    "#data[\"DESIGNATION\"].fillna(\"Staff\", inplace = True)\n",
    "#DATA = data.dropna(axis = 0, how = \"any\")"
   ]
  },
  {
   "cell_type": "markdown",
   "metadata": {},
   "source": [
    "### EXPLORATORY ANALYSIS"
   ]
  },
  {
   "cell_type": "code",
   "execution_count": 10,
   "metadata": {
    "scrolled": true
   },
   "outputs": [
    {
     "data": {
      "text/html": [
       "<div>\n",
       "<style scoped>\n",
       "    .dataframe tbody tr th:only-of-type {\n",
       "        vertical-align: middle;\n",
       "    }\n",
       "\n",
       "    .dataframe tbody tr th {\n",
       "        vertical-align: top;\n",
       "    }\n",
       "\n",
       "    .dataframe thead th {\n",
       "        text-align: right;\n",
       "    }\n",
       "</style>\n",
       "<table border=\"1\" class=\"dataframe\">\n",
       "  <thead>\n",
       "    <tr style=\"text-align: right;\">\n",
       "      <th></th>\n",
       "      <th>NATIONALITY</th>\n",
       "      <th>DESIGNATION</th>\n",
       "      <th>SECTOR</th>\n",
       "      <th>GROSS INCOME</th>\n",
       "      <th>ANNUAL TAX</th>\n",
       "      <th>NUMBER OF MONTHS</th>\n",
       "    </tr>\n",
       "  </thead>\n",
       "  <tbody>\n",
       "    <tr>\n",
       "      <th>0</th>\n",
       "      <td>NIGERIAN</td>\n",
       "      <td>ADMIN OFFICER</td>\n",
       "      <td>PHARMACUETICAL</td>\n",
       "      <td>274000.0</td>\n",
       "      <td>2740.00</td>\n",
       "      <td>12.0</td>\n",
       "    </tr>\n",
       "    <tr>\n",
       "      <th>1</th>\n",
       "      <td>NIGERIAN</td>\n",
       "      <td>ADMIN OFFICER</td>\n",
       "      <td>PHARMACUETICAL</td>\n",
       "      <td>69600.0</td>\n",
       "      <td>1698.66</td>\n",
       "      <td>2.0</td>\n",
       "    </tr>\n",
       "    <tr>\n",
       "      <th>2</th>\n",
       "      <td>NIGERIAN</td>\n",
       "      <td>SECURITY</td>\n",
       "      <td>PHARMACUETICAL</td>\n",
       "      <td>205500.0</td>\n",
       "      <td>2055.00</td>\n",
       "      <td>10.0</td>\n",
       "    </tr>\n",
       "    <tr>\n",
       "      <th>3</th>\n",
       "      <td>NIGERIAN</td>\n",
       "      <td>SECURITY</td>\n",
       "      <td>PHARMACUETICAL</td>\n",
       "      <td>250000.0</td>\n",
       "      <td>2500.00</td>\n",
       "      <td>12.0</td>\n",
       "    </tr>\n",
       "    <tr>\n",
       "      <th>4</th>\n",
       "      <td>NIGERIAN</td>\n",
       "      <td>PHARMACIST</td>\n",
       "      <td>PHARMACUETICAL</td>\n",
       "      <td>1235000.0</td>\n",
       "      <td>67920.00</td>\n",
       "      <td>12.0</td>\n",
       "    </tr>\n",
       "  </tbody>\n",
       "</table>\n",
       "</div>"
      ],
      "text/plain": [
       "  NATIONALITY    DESIGNATION          SECTOR  GROSS INCOME  ANNUAL TAX  \\\n",
       "0    NIGERIAN  ADMIN OFFICER  PHARMACUETICAL      274000.0     2740.00   \n",
       "1    NIGERIAN  ADMIN OFFICER  PHARMACUETICAL       69600.0     1698.66   \n",
       "2    NIGERIAN       SECURITY  PHARMACUETICAL      205500.0     2055.00   \n",
       "3    NIGERIAN       SECURITY  PHARMACUETICAL      250000.0     2500.00   \n",
       "4    NIGERIAN     PHARMACIST  PHARMACUETICAL     1235000.0    67920.00   \n",
       "\n",
       "   NUMBER OF MONTHS  \n",
       "0              12.0  \n",
       "1               2.0  \n",
       "2              10.0  \n",
       "3              12.0  \n",
       "4              12.0  "
      ]
     },
     "execution_count": 10,
     "metadata": {},
     "output_type": "execute_result"
    }
   ],
   "source": [
    "data.head()"
   ]
  },
  {
   "cell_type": "code",
   "execution_count": null,
   "metadata": {},
   "outputs": [],
   "source": [
    "data.shape"
   ]
  },
  {
   "cell_type": "code",
   "execution_count": null,
   "metadata": {},
   "outputs": [],
   "source": [
    "data.info()"
   ]
  },
  {
   "cell_type": "code",
   "execution_count": null,
   "metadata": {},
   "outputs": [],
   "source": [
    "data.describe()"
   ]
  },
  {
   "cell_type": "code",
   "execution_count": 7,
   "metadata": {},
   "outputs": [
    {
     "data": {
      "text/plain": [
       "BANKING           15546\n",
       "MANUFACTURING      4629\n",
       "TELECOMS           3054\n",
       "PHARMACUETICAL     2206\n",
       "OIL AND GAS        1828\n",
       "Name: SECTOR, dtype: int64"
      ]
     },
     "execution_count": 7,
     "metadata": {},
     "output_type": "execute_result"
    }
   ],
   "source": [
    "data[\"SECTOR\"].value_counts()"
   ]
  },
  {
   "cell_type": "code",
   "execution_count": 8,
   "metadata": {},
   "outputs": [
    {
     "data": {
      "text/plain": [
       "NIGERIAN      27137\n",
       "FOREIGNER       122\n",
       " NIGERIAN         4\n",
       "Name: NATIONALITY, dtype: int64"
      ]
     },
     "execution_count": 8,
     "metadata": {},
     "output_type": "execute_result"
    }
   ],
   "source": [
    "data[\"NATIONALITY\"].value_counts()"
   ]
  },
  {
   "cell_type": "code",
   "execution_count": 11,
   "metadata": {},
   "outputs": [
    {
     "data": {
      "text/html": [
       "<div>\n",
       "<style scoped>\n",
       "    .dataframe tbody tr th:only-of-type {\n",
       "        vertical-align: middle;\n",
       "    }\n",
       "\n",
       "    .dataframe tbody tr th {\n",
       "        vertical-align: top;\n",
       "    }\n",
       "\n",
       "    .dataframe thead th {\n",
       "        text-align: right;\n",
       "    }\n",
       "</style>\n",
       "<table border=\"1\" class=\"dataframe\">\n",
       "  <thead>\n",
       "    <tr style=\"text-align: right;\">\n",
       "      <th></th>\n",
       "      <th>GROSS INCOME</th>\n",
       "      <th>ANNUAL TAX</th>\n",
       "      <th>NUMBER OF MONTHS</th>\n",
       "    </tr>\n",
       "    <tr>\n",
       "      <th>NATIONALITY</th>\n",
       "      <th></th>\n",
       "      <th></th>\n",
       "      <th></th>\n",
       "    </tr>\n",
       "  </thead>\n",
       "  <tbody>\n",
       "    <tr>\n",
       "      <th>NIGERIAN</th>\n",
       "      <td>2.720000e+02</td>\n",
       "      <td>5.970000e+02</td>\n",
       "      <td>45.000000</td>\n",
       "    </tr>\n",
       "    <tr>\n",
       "      <th>FOREIGNER</th>\n",
       "      <td>4.883506e+09</td>\n",
       "      <td>9.012048e+08</td>\n",
       "      <td>1159.000000</td>\n",
       "    </tr>\n",
       "    <tr>\n",
       "      <th>NIGERIAN</th>\n",
       "      <td>2.389149e+11</td>\n",
       "      <td>3.700335e+10</td>\n",
       "      <td>281503.660319</td>\n",
       "    </tr>\n",
       "  </tbody>\n",
       "</table>\n",
       "</div>"
      ],
      "text/plain": [
       "             GROSS INCOME    ANNUAL TAX  NUMBER OF MONTHS\n",
       "NATIONALITY                                              \n",
       " NIGERIAN    2.720000e+02  5.970000e+02         45.000000\n",
       "FOREIGNER    4.883506e+09  9.012048e+08       1159.000000\n",
       "NIGERIAN     2.389149e+11  3.700335e+10     281503.660319"
      ]
     },
     "execution_count": 11,
     "metadata": {},
     "output_type": "execute_result"
    }
   ],
   "source": [
    "left = data.groupby(\"NATIONALITY\")\n",
    "\n",
    "N = left.sum()\n",
    "N"
   ]
  },
  {
   "cell_type": "markdown",
   "metadata": {},
   "source": [
    "A LITTLE BIT OF DATA ENGINEERING\n",
    "\n",
    "To create a new column to categorize tax payers based on their income."
   ]
  },
  {
   "cell_type": "code",
   "execution_count": 12,
   "metadata": {},
   "outputs": [],
   "source": [
    "data['INCOME CATEGORY'] = pd.qcut(data['GROSS INCOME'],7,labels=['LEVEL 1','LEVEL 2', \"LEVEL 3\",'LEVEL 4', \"LEVEL 5\", \"LEVEL 6\", \"LEVEL 7\"])"
   ]
  },
  {
   "cell_type": "code",
   "execution_count": 13,
   "metadata": {},
   "outputs": [
    {
     "data": {
      "text/html": [
       "<div>\n",
       "<style scoped>\n",
       "    .dataframe tbody tr th:only-of-type {\n",
       "        vertical-align: middle;\n",
       "    }\n",
       "\n",
       "    .dataframe tbody tr th {\n",
       "        vertical-align: top;\n",
       "    }\n",
       "\n",
       "    .dataframe thead th {\n",
       "        text-align: right;\n",
       "    }\n",
       "</style>\n",
       "<table border=\"1\" class=\"dataframe\">\n",
       "  <thead>\n",
       "    <tr style=\"text-align: right;\">\n",
       "      <th></th>\n",
       "      <th>NATIONALITY</th>\n",
       "      <th>DESIGNATION</th>\n",
       "      <th>SECTOR</th>\n",
       "      <th>GROSS INCOME</th>\n",
       "      <th>ANNUAL TAX</th>\n",
       "      <th>NUMBER OF MONTHS</th>\n",
       "      <th>INCOME CATEGORY</th>\n",
       "    </tr>\n",
       "  </thead>\n",
       "  <tbody>\n",
       "    <tr>\n",
       "      <th>0</th>\n",
       "      <td>NIGERIAN</td>\n",
       "      <td>ADMIN OFFICER</td>\n",
       "      <td>PHARMACUETICAL</td>\n",
       "      <td>274000.0</td>\n",
       "      <td>2740.00</td>\n",
       "      <td>12.0</td>\n",
       "      <td>LEVEL 1</td>\n",
       "    </tr>\n",
       "    <tr>\n",
       "      <th>1</th>\n",
       "      <td>NIGERIAN</td>\n",
       "      <td>ADMIN OFFICER</td>\n",
       "      <td>PHARMACUETICAL</td>\n",
       "      <td>69600.0</td>\n",
       "      <td>1698.66</td>\n",
       "      <td>2.0</td>\n",
       "      <td>LEVEL 1</td>\n",
       "    </tr>\n",
       "    <tr>\n",
       "      <th>2</th>\n",
       "      <td>NIGERIAN</td>\n",
       "      <td>SECURITY</td>\n",
       "      <td>PHARMACUETICAL</td>\n",
       "      <td>205500.0</td>\n",
       "      <td>2055.00</td>\n",
       "      <td>10.0</td>\n",
       "      <td>LEVEL 1</td>\n",
       "    </tr>\n",
       "    <tr>\n",
       "      <th>3</th>\n",
       "      <td>NIGERIAN</td>\n",
       "      <td>SECURITY</td>\n",
       "      <td>PHARMACUETICAL</td>\n",
       "      <td>250000.0</td>\n",
       "      <td>2500.00</td>\n",
       "      <td>12.0</td>\n",
       "      <td>LEVEL 1</td>\n",
       "    </tr>\n",
       "    <tr>\n",
       "      <th>4</th>\n",
       "      <td>NIGERIAN</td>\n",
       "      <td>PHARMACIST</td>\n",
       "      <td>PHARMACUETICAL</td>\n",
       "      <td>1235000.0</td>\n",
       "      <td>67920.00</td>\n",
       "      <td>12.0</td>\n",
       "      <td>LEVEL 2</td>\n",
       "    </tr>\n",
       "  </tbody>\n",
       "</table>\n",
       "</div>"
      ],
      "text/plain": [
       "  NATIONALITY    DESIGNATION          SECTOR  GROSS INCOME  ANNUAL TAX  \\\n",
       "0    NIGERIAN  ADMIN OFFICER  PHARMACUETICAL      274000.0     2740.00   \n",
       "1    NIGERIAN  ADMIN OFFICER  PHARMACUETICAL       69600.0     1698.66   \n",
       "2    NIGERIAN       SECURITY  PHARMACUETICAL      205500.0     2055.00   \n",
       "3    NIGERIAN       SECURITY  PHARMACUETICAL      250000.0     2500.00   \n",
       "4    NIGERIAN     PHARMACIST  PHARMACUETICAL     1235000.0    67920.00   \n",
       "\n",
       "   NUMBER OF MONTHS INCOME CATEGORY  \n",
       "0              12.0         LEVEL 1  \n",
       "1               2.0         LEVEL 1  \n",
       "2              10.0         LEVEL 1  \n",
       "3              12.0         LEVEL 1  \n",
       "4              12.0         LEVEL 2  "
      ]
     },
     "execution_count": 13,
     "metadata": {},
     "output_type": "execute_result"
    }
   ],
   "source": [
    "data.head()"
   ]
  },
  {
   "cell_type": "code",
   "execution_count": null,
   "metadata": {},
   "outputs": [],
   "source": []
  },
  {
   "cell_type": "markdown",
   "metadata": {},
   "source": [
    "DATA VISUALIZATION"
   ]
  },
  {
   "cell_type": "code",
   "execution_count": null,
   "metadata": {},
   "outputs": [],
   "source": [
    "#SHOWING THE STAFF STRENGTH OF EACH SECTOR\n",
    "\n",
    "plt.title(\"Showing the staff strength of the 5 sectors\")\n",
    "sns.set(style=\"darkgrid\")\n",
    "sns.countplot(x = data[\"SECTOR\"])"
   ]
  },
  {
   "cell_type": "code",
   "execution_count": null,
   "metadata": {},
   "outputs": [],
   "source": [
    "#SHOWING THE NUMBER OF EMPLOYEES IN EACH INCOME LEVEL\n",
    "\n",
    "plt.title(\"NUMBER OF EMPLOYEES IN EACH INCOME LEVEL\")\n",
    "sns.set(style=\"darkgrid\")\n",
    "sns.countplot(x = data[\"INCOME CATEGORY\"].head(500))"
   ]
  },
  {
   "cell_type": "code",
   "execution_count": null,
   "metadata": {},
   "outputs": [],
   "source": [
    "#SHOWING THE INCOME MARGIN OF THE DIFFERENT LEVELS OF INCOME EARNERS\n",
    "\n",
    "sns.barplot(x= 'INCOME CATEGORY', y= 'GROSS INCOME', data = data)"
   ]
  },
  {
   "cell_type": "code",
   "execution_count": null,
   "metadata": {
    "scrolled": true
   },
   "outputs": [],
   "source": [
    "#SHOWING HOW MUCH TAX EACH SECTOR GENERATES\n",
    "\n",
    "sns.barplot(x= 'SECTOR', y= 'ANNUAL TAX', data = data)"
   ]
  },
  {
   "cell_type": "code",
   "execution_count": null,
   "metadata": {},
   "outputs": [],
   "source": [
    "plt.title(\"Comparing the number of NIGERIANS vs FOREIGNERS\")\n",
    "sns.set(style=\"darkgrid\")\n",
    "sns.countplot(x = data[\"NATIONALITY\"])"
   ]
  },
  {
   "cell_type": "code",
   "execution_count": null,
   "metadata": {},
   "outputs": [],
   "source": [
    "#COMPARING THE CUMMULATIVE GROSS INCOME OF NIGERIANS VS FOREIGNERS\n",
    "\n",
    "sns.barplot(x= 'NATIONALITY', y= 'GROSS INCOME', data = data)"
   ]
  },
  {
   "cell_type": "code",
   "execution_count": null,
   "metadata": {},
   "outputs": [],
   "source": [
    "#plt.title(\"TAX GENERATED BY EACH SECTOR\")\n",
    "#sns.set(style=\"darkgrid\")\n",
    "#sns.countplot(x = data[\"ANNUAL TAX\"])"
   ]
  },
  {
   "cell_type": "code",
   "execution_count": null,
   "metadata": {},
   "outputs": [],
   "source": [
    "#plt.bar(left.index.values, left[\"ANNUAL TAX\"])\n",
    "#plt.ylabel(\"AMOUNT GENERATED\")\n",
    "#plt.show()"
   ]
  },
  {
   "cell_type": "code",
   "execution_count": null,
   "metadata": {},
   "outputs": [],
   "source": [
    "DATA = data.drop(\"DESIGNATION\", axis = 1)\n",
    "DATA = DATA.drop(\"NUMBER OF MONTHS\", axis = 1)"
   ]
  },
  {
   "cell_type": "code",
   "execution_count": 20,
   "metadata": {},
   "outputs": [],
   "source": [
    "tax = pd.get_dummies(data)\n",
    "#sns.pairplot(DATA)"
   ]
  },
  {
   "cell_type": "markdown",
   "metadata": {},
   "source": [
    "### PROBLEM STATEMENT\n",
    "\n",
    "Predicting the annual tax of gainfully employed citizens of Nigeria using their gross income. To enable the government better plan the country's budget."
   ]
  },
  {
   "cell_type": "code",
   "execution_count": 61,
   "metadata": {},
   "outputs": [],
   "source": [
    "#Getting our train, validation and test data\n",
    "\n",
    "X = data[[\"GROSS INCOME\"]]\n",
    "Y = data[[\"ANNUAL TAX\"]]\n",
    "\n",
    "from sklearn.model_selection import train_test_split\n",
    "\n",
    "X_train, X_test, Y_train, Y_test = train_test_split(X, Y, test_size = 0.3, random_state = 42)\n",
    "X_train, X_val, Y_train, Y_val = train_test_split(X_train, Y_train, test_size = 0.2, random_state = 42)"
   ]
  },
  {
   "cell_type": "markdown",
   "metadata": {},
   "source": [
    "### MODEL TRAINING\n",
    "\n",
    "We use the train set to train the model and use the validation set to validate and thereafter test with the test set.\n",
    "\n",
    "1) LINEAR REGRESSION MODEL."
   ]
  },
  {
   "cell_type": "code",
   "execution_count": 62,
   "metadata": {},
   "outputs": [
    {
     "data": {
      "text/plain": [
       "LinearRegression(copy_X=True, fit_intercept=True, n_jobs=None, normalize=False)"
      ]
     },
     "execution_count": 62,
     "metadata": {},
     "output_type": "execute_result"
    }
   ],
   "source": [
    "from sklearn.linear_model import LinearRegression\n",
    "regressor = LinearRegression()\n",
    "regressor.fit(X_train, Y_train)"
   ]
  },
  {
   "cell_type": "code",
   "execution_count": 16,
   "metadata": {},
   "outputs": [
    {
     "data": {
      "text/plain": [
       "0.9875992143180498"
      ]
     },
     "execution_count": 16,
     "metadata": {},
     "output_type": "execute_result"
    }
   ],
   "source": [
    "regressor.score(X_train, Y_train)"
   ]
  },
  {
   "cell_type": "code",
   "execution_count": 17,
   "metadata": {},
   "outputs": [
    {
     "name": "stdout",
     "output_type": "stream",
     "text": [
      "[-194939.14314032]\n"
     ]
    }
   ],
   "source": [
    "print(regressor.intercept_)"
   ]
  },
  {
   "cell_type": "code",
   "execution_count": 18,
   "metadata": {},
   "outputs": [
    {
     "data": {
      "text/plain": [
       "array([[0.17776486]])"
      ]
     },
     "execution_count": 18,
     "metadata": {},
     "output_type": "execute_result"
    }
   ],
   "source": [
    "regressor.coef_"
   ]
  },
  {
   "cell_type": "code",
   "execution_count": 35,
   "metadata": {},
   "outputs": [
    {
     "name": "stdout",
     "output_type": "stream",
     "text": [
      "                  GROSS INCOME  ANNUAL TAX  NUMBER OF MONTHS\n",
      "GROSS INCOME          1.000000    0.993850          0.155965\n",
      "ANNUAL TAX            0.993850    1.000000          0.137992\n",
      "NUMBER OF MONTHS      0.155965    0.137992          1.000000\n"
     ]
    }
   ],
   "source": [
    "#To check corelation between variables\n",
    "\n",
    "cor = data.corr()\n",
    "\n",
    "print(cor)"
   ]
  },
  {
   "cell_type": "code",
   "execution_count": 37,
   "metadata": {},
   "outputs": [
    {
     "data": {
      "text/plain": [
       "<matplotlib.axes._subplots.AxesSubplot at 0xfaf60b0>"
      ]
     },
     "execution_count": 37,
     "metadata": {},
     "output_type": "execute_result"
    },
    {
     "data": {
      "image/png": "[encoded data removed]",
      "text/plain": [
       "<Figure size 432x288 with 2 Axes>"
      ]
     },
     "metadata": {
      "needs_background": "light"
     },
     "output_type": "display_data"
    }
   ],
   "source": [
    "sns.heatmap(cor,\n",
    "            annot=True,\n",
    "            cmap=\"YlGnBu\", \n",
    "            linewidths=0.3,\n",
    "            annot_kws={\"size\": 8})"
   ]
  },
  {
   "cell_type": "markdown",
   "metadata": {},
   "source": [
    "### MODEL VALIDATION"
   ]
  },
  {
   "cell_type": "code",
   "execution_count": 24,
   "metadata": {},
   "outputs": [],
   "source": [
    "Y_val_pred = regressor.predict(X_val)"
   ]
  },
  {
   "cell_type": "code",
   "execution_count": 41,
   "metadata": {},
   "outputs": [
    {
     "data": {
      "text/html": [
       "<div>\n",
       "<style scoped>\n",
       "    .dataframe tbody tr th:only-of-type {\n",
       "        vertical-align: middle;\n",
       "    }\n",
       "\n",
       "    .dataframe tbody tr th {\n",
       "        vertical-align: top;\n",
       "    }\n",
       "\n",
       "    .dataframe thead th {\n",
       "        text-align: right;\n",
       "    }\n",
       "</style>\n",
       "<table border=\"1\" class=\"dataframe\">\n",
       "  <thead>\n",
       "    <tr style=\"text-align: right;\">\n",
       "      <th></th>\n",
       "      <th>ANNUAL TAX</th>\n",
       "    </tr>\n",
       "  </thead>\n",
       "  <tbody>\n",
       "    <tr>\n",
       "      <th>23419</th>\n",
       "      <td>4.153474e+04</td>\n",
       "    </tr>\n",
       "    <tr>\n",
       "      <th>23502</th>\n",
       "      <td>2.000473e+07</td>\n",
       "    </tr>\n",
       "    <tr>\n",
       "      <th>20521</th>\n",
       "      <td>1.885916e+06</td>\n",
       "    </tr>\n",
       "    <tr>\n",
       "      <th>22351</th>\n",
       "      <td>1.176494e+06</td>\n",
       "    </tr>\n",
       "    <tr>\n",
       "      <th>13788</th>\n",
       "      <td>2.004528e+04</td>\n",
       "    </tr>\n",
       "  </tbody>\n",
       "</table>\n",
       "</div>"
      ],
      "text/plain": [
       "         ANNUAL TAX\n",
       "23419  4.153474e+04\n",
       "23502  2.000473e+07\n",
       "20521  1.885916e+06\n",
       "22351  1.176494e+06\n",
       "13788  2.004528e+04"
      ]
     },
     "execution_count": 41,
     "metadata": {},
     "output_type": "execute_result"
    }
   ],
   "source": [
    "df = Y_val\n",
    "val = df\n",
    "\n",
    "val.head()"
   ]
  },
  {
   "cell_type": "markdown",
   "metadata": {},
   "source": [
    "### MODEL TESTING"
   ]
  },
  {
   "cell_type": "code",
   "execution_count": 63,
   "metadata": {},
   "outputs": [],
   "source": [
    "Y_test_pred = regressor.predict(X_test)"
   ]
  },
  {
   "cell_type": "code",
   "execution_count": 64,
   "metadata": {},
   "outputs": [
    {
     "data": {
      "text/html": [
       "<div>\n",
       "<style scoped>\n",
       "    .dataframe tbody tr th:only-of-type {\n",
       "        vertical-align: middle;\n",
       "    }\n",
       "\n",
       "    .dataframe tbody tr th {\n",
       "        vertical-align: top;\n",
       "    }\n",
       "\n",
       "    .dataframe thead th {\n",
       "        text-align: right;\n",
       "    }\n",
       "</style>\n",
       "<table border=\"1\" class=\"dataframe\">\n",
       "  <thead>\n",
       "    <tr style=\"text-align: right;\">\n",
       "      <th></th>\n",
       "      <th>ANNUAL TAX</th>\n",
       "    </tr>\n",
       "  </thead>\n",
       "  <tbody>\n",
       "    <tr>\n",
       "      <th>15245</th>\n",
       "      <td>1.284772e+06</td>\n",
       "    </tr>\n",
       "    <tr>\n",
       "      <th>21122</th>\n",
       "      <td>6.465618e+05</td>\n",
       "    </tr>\n",
       "    <tr>\n",
       "      <th>11605</th>\n",
       "      <td>1.752327e+05</td>\n",
       "    </tr>\n",
       "    <tr>\n",
       "      <th>5804</th>\n",
       "      <td>3.009343e+05</td>\n",
       "    </tr>\n",
       "    <tr>\n",
       "      <th>26718</th>\n",
       "      <td>4.750249e+05</td>\n",
       "    </tr>\n",
       "  </tbody>\n",
       "</table>\n",
       "</div>"
      ],
      "text/plain": [
       "         ANNUAL TAX\n",
       "15245  1.284772e+06\n",
       "21122  6.465618e+05\n",
       "11605  1.752327e+05\n",
       "5804   3.009343e+05\n",
       "26718  4.750249e+05"
      ]
     },
     "execution_count": 64,
     "metadata": {},
     "output_type": "execute_result"
    }
   ],
   "source": [
    "dn = Y_test\n",
    "A = dn\n",
    "result = A\n",
    "\n",
    "result.head()"
   ]
  },
  {
   "cell_type": "code",
   "execution_count": 72,
   "metadata": {},
   "outputs": [
    {
     "name": "stderr",
     "output_type": "stream",
     "text": [
      "C:\\Users\\TheForbesMaterial\\Anaconda3\\lib\\site-packages\\ipykernel_launcher.py:1: SettingWithCopyWarning: \n",
      "A value is trying to be set on a copy of a slice from a DataFrame.\n",
      "Try using .loc[row_indexer,col_indexer] = value instead\n",
      "\n",
      "See the caveats in the documentation: http://pandas.pydata.org/pandas-docs/stable/indexing.html#indexing-view-versus-copy\n",
      "  \"\"\"Entry point for launching an IPython kernel.\n"
     ]
    },
    {
     "data": {
      "text/html": [
       "<div>\n",
       "<style scoped>\n",
       "    .dataframe tbody tr th:only-of-type {\n",
       "        vertical-align: middle;\n",
       "    }\n",
       "\n",
       "    .dataframe tbody tr th {\n",
       "        vertical-align: top;\n",
       "    }\n",
       "\n",
       "    .dataframe thead th {\n",
       "        text-align: right;\n",
       "    }\n",
       "</style>\n",
       "<table border=\"1\" class=\"dataframe\">\n",
       "  <thead>\n",
       "    <tr style=\"text-align: right;\">\n",
       "      <th></th>\n",
       "      <th>ANNUAL TAX</th>\n",
       "      <th>ANNUAL TAX TEST_PRED</th>\n",
       "    </tr>\n",
       "  </thead>\n",
       "  <tbody>\n",
       "    <tr>\n",
       "      <th>15245</th>\n",
       "      <td>1.284772e+06</td>\n",
       "      <td>1.277321e+06</td>\n",
       "    </tr>\n",
       "    <tr>\n",
       "      <th>21122</th>\n",
       "      <td>6.465618e+05</td>\n",
       "      <td>7.367901e+05</td>\n",
       "    </tr>\n",
       "    <tr>\n",
       "      <th>11605</th>\n",
       "      <td>1.752327e+05</td>\n",
       "      <td>1.703677e+05</td>\n",
       "    </tr>\n",
       "    <tr>\n",
       "      <th>5804</th>\n",
       "      <td>3.009343e+05</td>\n",
       "      <td>1.812241e+05</td>\n",
       "    </tr>\n",
       "    <tr>\n",
       "      <th>26718</th>\n",
       "      <td>4.750249e+05</td>\n",
       "      <td>5.400591e+05</td>\n",
       "    </tr>\n",
       "  </tbody>\n",
       "</table>\n",
       "</div>"
      ],
      "text/plain": [
       "         ANNUAL TAX  ANNUAL TAX TEST_PRED\n",
       "15245  1.284772e+06          1.277321e+06\n",
       "21122  6.465618e+05          7.367901e+05\n",
       "11605  1.752327e+05          1.703677e+05\n",
       "5804   3.009343e+05          1.812241e+05\n",
       "26718  4.750249e+05          5.400591e+05"
      ]
     },
     "execution_count": 72,
     "metadata": {},
     "output_type": "execute_result"
    }
   ],
   "source": [
    "result[\"ANNUAL TAX TEST_PRED\"] = Y_test_pred\n",
    "result.head()"
   ]
  },
  {
   "cell_type": "markdown",
   "metadata": {},
   "source": [
    "### ERROR VISUALIZATION FOR LINEAR REGRESSION"
   ]
  },
  {
   "cell_type": "code",
   "execution_count": 44,
   "metadata": {},
   "outputs": [
    {
     "data": {
      "image/png": "[encoded data removed]",
      "text/plain": [
       "<Figure size 1152x720 with 1 Axes>"
      ]
     },
     "metadata": {
      "needs_background": "light"
     },
     "output_type": "display_data"
    }
   ],
   "source": [
    "#PLOTTING A BAR CHART OF THE TRUE ANNUAL TAX AGAINST THE PREDICTED ANNUAL TAX\n",
    "\n",
    "result[[\"ANNUAL TAX\", \"ANNUAL TAX TEST_PRED\"]].head(10).plot(kind = \"bar\", figsize = (16, 10))\n",
    "plt.grid(which = \"major\", linestyle = \"-\", linewidth = \"0.5\", color = \"green\")\n",
    "plt.grid(which = \"minor\", linestyle = \":\", linewidth = \"0.5\", color = \"black\")\n",
    "plt.show()"
   ]
  },
  {
   "cell_type": "code",
   "execution_count": 45,
   "metadata": {},
   "outputs": [
    {
     "data": {
      "image/png": "[encoded data removed]",
      "text/plain": [
       "<Figure size 432x288 with 1 Axes>"
      ]
     },
     "metadata": {
      "needs_background": "light"
     },
     "output_type": "display_data"
    }
   ],
   "source": [
    "#PLOTTING A SCATTER/PLOT OF THE GROSS INCOME AGAINST THE PREDICTED ANNUAL TAX\n",
    "\n",
    "plt.scatter(X_test, result[\"ANNUAL TAX TEST_PRED\"], color = \"purple\")\n",
    "\n",
    "plt.plot(X_test, regressor.predict(X_test), color = \"red\")\n",
    "\n",
    "plt.title(\"Simple Linear Relationship between GROSS INCOME and ANNUAL TAX\")\n",
    "plt.xlabel(\"GROSS INCOME\")\n",
    "plt.ylabel(\"ANNUAL TAX TEST_PRED\")\n",
    "plt.show()"
   ]
  },
  {
   "cell_type": "markdown",
   "metadata": {},
   "source": [
    "### EVALUATION METRICS FOR REGRESSION MODEL \n",
    "\n",
    "#### CHECKING FOR: ERROR, COST FUNCTION, MEAN ABSOLUTE ERROR (MAE), MEAN SQUARED ERROR (MSE) AND ROOT MEAN SQUARED ERROR (RMSE) USING OUR TEST DATA"
   ]
  },
  {
   "cell_type": "code",
   "execution_count": 79,
   "metadata": {},
   "outputs": [
    {
     "name": "stdout",
     "output_type": "stream",
     "text": [
      "         ANNUAL TAX  ANNUAL TAX TEST_PRED          ERROR     Y_RF_PRED  \\\n",
      "15245  1.284772e+06          1.277321e+06    7451.159187  1.284772e+06   \n",
      "21122  6.465618e+05          7.367901e+05  -90228.311919  6.960452e+05   \n",
      "11605  1.752327e+05          1.703677e+05    4865.016804  1.722209e+05   \n",
      "5804   3.009343e+05          1.812241e+05  119710.123864  2.975266e+05   \n",
      "26718  4.750249e+05          5.400591e+05  -65034.266158  4.996802e+05   \n",
      "4104   8.766278e+04         -6.845608e+04  156118.865417  6.832558e+04   \n",
      "9192   4.561910e+05          5.030635e+05  -46872.473631  4.561910e+05   \n",
      "21367  1.804398e+06          2.125148e+06 -320750.310093  1.958119e+06   \n",
      "14725  1.423350e+05         -3.183295e+04  174167.947219  1.423350e+05   \n",
      "11879  1.632661e+05          1.577997e+05    5466.395665  1.631289e+05   \n",
      "19010  2.968165e+06          3.053474e+06  -85309.149264  2.932586e+06   \n",
      "\n",
      "           RF ERROR       LR ERROR  \n",
      "15245  0.000000e+00    7451.159187  \n",
      "21122 -4.948336e+04  -90228.311919  \n",
      "11605  3.011750e+03    4865.016804  \n",
      "5804   3.407667e+03  119710.123864  \n",
      "26718 -2.465531e+04  -65034.266158  \n",
      "4104   1.933720e+04  156118.865417  \n",
      "9192  -7.217750e-09  -46872.473631  \n",
      "21367 -1.537211e+05 -320750.310093  \n",
      "14725  0.000000e+00  174167.947219  \n",
      "11879  1.371735e+02    5466.395665  \n",
      "19010  3.557928e+04  -85309.149264  \n",
      "\n",
      "THE COST FUNCTION IS =  1083253542.9949868\n",
      "THE MEAN ABSOLUTE ERROR IS =  132443.2746050846\n"
     ]
    },
    {
     "name": "stderr",
     "output_type": "stream",
     "text": [
      "C:\\Users\\TheForbesMaterial\\Anaconda3\\lib\\site-packages\\ipykernel_launcher.py:3: SettingWithCopyWarning: \n",
      "A value is trying to be set on a copy of a slice from a DataFrame.\n",
      "Try using .loc[row_indexer,col_indexer] = value instead\n",
      "\n",
      "See the caveats in the documentation: http://pandas.pydata.org/pandas-docs/stable/indexing.html#indexing-view-versus-copy\n",
      "  This is separate from the ipykernel package so we can avoid doing imports until\n"
     ]
    }
   ],
   "source": [
    "n = len(result)\n",
    "\n",
    "result[\"LR ERROR\"] = result[\"ANNUAL TAX\"].subtract(result[\"ANNUAL TAX TEST_PRED\"])\n",
    "print(result.iloc[ : 11, : ])\n",
    "\n",
    "Cost_Function = abs(result[\"ERROR\"]).sum()\n",
    "Mean_Absolute_Error = Cost_Function / n\n",
    "\n",
    "print(\"\\nTHE COST FUNCTION IS = \", Cost_Function)\n",
    "print(\"THE MEAN ABSOLUTE ERROR IS = \", Mean_Absolute_Error)"
   ]
  },
  {
   "cell_type": "code",
   "execution_count": 48,
   "metadata": {},
   "outputs": [
    {
     "data": {
      "text/html": [
       "<div>\n",
       "<style scoped>\n",
       "    .dataframe tbody tr th:only-of-type {\n",
       "        vertical-align: middle;\n",
       "    }\n",
       "\n",
       "    .dataframe tbody tr th {\n",
       "        vertical-align: top;\n",
       "    }\n",
       "\n",
       "    .dataframe thead th {\n",
       "        text-align: right;\n",
       "    }\n",
       "</style>\n",
       "<table border=\"1\" class=\"dataframe\">\n",
       "  <thead>\n",
       "    <tr style=\"text-align: right;\">\n",
       "      <th></th>\n",
       "      <th>ANNUAL TAX</th>\n",
       "      <th>ANNUAL TAX TEST_PRED</th>\n",
       "      <th>ERROR</th>\n",
       "    </tr>\n",
       "  </thead>\n",
       "  <tbody>\n",
       "    <tr>\n",
       "      <th>15245</th>\n",
       "      <td>1.284772e+06</td>\n",
       "      <td>1.277321e+06</td>\n",
       "      <td>7451.159187</td>\n",
       "    </tr>\n",
       "    <tr>\n",
       "      <th>21122</th>\n",
       "      <td>6.465618e+05</td>\n",
       "      <td>7.367901e+05</td>\n",
       "      <td>-90228.311919</td>\n",
       "    </tr>\n",
       "    <tr>\n",
       "      <th>11605</th>\n",
       "      <td>1.752327e+05</td>\n",
       "      <td>1.703677e+05</td>\n",
       "      <td>4865.016804</td>\n",
       "    </tr>\n",
       "    <tr>\n",
       "      <th>5804</th>\n",
       "      <td>3.009343e+05</td>\n",
       "      <td>1.812241e+05</td>\n",
       "      <td>119710.123864</td>\n",
       "    </tr>\n",
       "    <tr>\n",
       "      <th>26718</th>\n",
       "      <td>4.750249e+05</td>\n",
       "      <td>5.400591e+05</td>\n",
       "      <td>-65034.266158</td>\n",
       "    </tr>\n",
       "  </tbody>\n",
       "</table>\n",
       "</div>"
      ],
      "text/plain": [
       "         ANNUAL TAX  ANNUAL TAX TEST_PRED          ERROR\n",
       "15245  1.284772e+06          1.277321e+06    7451.159187\n",
       "21122  6.465618e+05          7.367901e+05  -90228.311919\n",
       "11605  1.752327e+05          1.703677e+05    4865.016804\n",
       "5804   3.009343e+05          1.812241e+05  119710.123864\n",
       "26718  4.750249e+05          5.400591e+05  -65034.266158"
      ]
     },
     "execution_count": 48,
     "metadata": {},
     "output_type": "execute_result"
    }
   ],
   "source": [
    "#Y_test.drop(\"ANNUAL TAX TEST_PRED\", axis = 1, inplace = True)\n",
    "#Y_test.drop(\"ERROR\", axis = 1, inplace = True)\n",
    "Y_test.head()"
   ]
  },
  {
   "cell_type": "code",
   "execution_count": 66,
   "metadata": {},
   "outputs": [
    {
     "name": "stdout",
     "output_type": "stream",
     "text": [
      "MEAN ABSOLUTE ERROR: 132443.2746050846\n",
      "MEAN SQUARED ERROR: 145737153416.07495\n",
      "ROOT MEAN SQUARED ERROR: 381755.3580712063\n"
     ]
    }
   ],
   "source": [
    "#USING SKLEARN REGRESSION METRICS\n",
    "\n",
    "from sklearn import metrics\n",
    "\n",
    "print('MEAN ABSOLUTE ERROR:', metrics.mean_absolute_error(Y_test, Y_test_pred))  \n",
    "print('MEAN SQUARED ERROR:', metrics.mean_squared_error(Y_test, Y_test_pred))  \n",
    "print('ROOT MEAN SQUARED ERROR:', np.sqrt(metrics.mean_squared_error(Y_test, Y_test_pred)))"
   ]
  },
  {
   "cell_type": "markdown",
   "metadata": {},
   "source": [
    "#### CONCLUSION\n",
    "\n",
    "The disparity between the Y_test(true value) and Y_test_Pred(predicted value) can be ignored."
   ]
  },
  {
   "cell_type": "markdown",
   "metadata": {},
   "source": [
    "### 2) USING RANDOM FOREST MODEL"
   ]
  },
  {
   "cell_type": "code",
   "execution_count": 67,
   "metadata": {},
   "outputs": [
    {
     "name": "stderr",
     "output_type": "stream",
     "text": [
      "C:\\Users\\TheForbesMaterial\\Anaconda3\\lib\\site-packages\\ipykernel_launcher.py:5: DataConversionWarning: A column-vector y was passed when a 1d array was expected. Please change the shape of y to (n_samples,), for example using ravel().\n",
      "  \"\"\"\n"
     ]
    },
    {
     "data": {
      "text/plain": [
       "RandomForestRegressor(bootstrap=True, criterion='mse', max_depth=None,\n",
       "                      max_features='auto', max_leaf_nodes=None,\n",
       "                      min_impurity_decrease=0.0, min_impurity_split=None,\n",
       "                      min_samples_leaf=1, min_samples_split=2,\n",
       "                      min_weight_fraction_leaf=0.0, n_estimators=1000,\n",
       "                      n_jobs=None, oob_score=False, random_state=42, verbose=0,\n",
       "                      warm_start=False)"
      ]
     },
     "execution_count": 67,
     "metadata": {},
     "output_type": "execute_result"
    }
   ],
   "source": [
    "from sklearn.ensemble import RandomForestRegressor\n",
    "\n",
    "\n",
    "rf = RandomForestRegressor(n_estimators = 1000, random_state = 42)\n",
    "rf.fit(X_train, Y_train)"
   ]
  },
  {
   "cell_type": "code",
   "execution_count": 68,
   "metadata": {},
   "outputs": [],
   "source": [
    "Y_rf_pred = rf.predict(X_test)"
   ]
  },
  {
   "cell_type": "code",
   "execution_count": 69,
   "metadata": {},
   "outputs": [],
   "source": [
    "#from sklearn import metrics"
   ]
  },
  {
   "cell_type": "code",
   "execution_count": 70,
   "metadata": {},
   "outputs": [],
   "source": [
    "from sklearn.metrics import mean_squared_error\n",
    "from sklearn.model_selection import cross_val_score, GridSearchCV"
   ]
  },
  {
   "cell_type": "code",
   "execution_count": 74,
   "metadata": {},
   "outputs": [
    {
     "name": "stderr",
     "output_type": "stream",
     "text": [
      "C:\\Users\\TheForbesMaterial\\Anaconda3\\lib\\site-packages\\ipykernel_launcher.py:1: SettingWithCopyWarning: \n",
      "A value is trying to be set on a copy of a slice from a DataFrame.\n",
      "Try using .loc[row_indexer,col_indexer] = value instead\n",
      "\n",
      "See the caveats in the documentation: http://pandas.pydata.org/pandas-docs/stable/indexing.html#indexing-view-versus-copy\n",
      "  \"\"\"Entry point for launching an IPython kernel.\n"
     ]
    }
   ],
   "source": [
    "\n",
    "result[\"Y_RF_PRED\"] = Y_rf_pred"
   ]
  },
  {
   "cell_type": "code",
   "execution_count": 75,
   "metadata": {},
   "outputs": [
    {
     "data": {
      "text/html": [
       "<div>\n",
       "<style scoped>\n",
       "    .dataframe tbody tr th:only-of-type {\n",
       "        vertical-align: middle;\n",
       "    }\n",
       "\n",
       "    .dataframe tbody tr th {\n",
       "        vertical-align: top;\n",
       "    }\n",
       "\n",
       "    .dataframe thead th {\n",
       "        text-align: right;\n",
       "    }\n",
       "</style>\n",
       "<table border=\"1\" class=\"dataframe\">\n",
       "  <thead>\n",
       "    <tr style=\"text-align: right;\">\n",
       "      <th></th>\n",
       "      <th>ANNUAL TAX</th>\n",
       "      <th>ANNUAL TAX TEST_PRED</th>\n",
       "      <th>ERROR</th>\n",
       "      <th>Y_RF_PRED</th>\n",
       "    </tr>\n",
       "  </thead>\n",
       "  <tbody>\n",
       "    <tr>\n",
       "      <th>15245</th>\n",
       "      <td>1.284772e+06</td>\n",
       "      <td>1.277321e+06</td>\n",
       "      <td>7451.159187</td>\n",
       "      <td>1.284772e+06</td>\n",
       "    </tr>\n",
       "    <tr>\n",
       "      <th>21122</th>\n",
       "      <td>6.465618e+05</td>\n",
       "      <td>7.367901e+05</td>\n",
       "      <td>-90228.311919</td>\n",
       "      <td>6.960452e+05</td>\n",
       "    </tr>\n",
       "    <tr>\n",
       "      <th>11605</th>\n",
       "      <td>1.752327e+05</td>\n",
       "      <td>1.703677e+05</td>\n",
       "      <td>4865.016804</td>\n",
       "      <td>1.722209e+05</td>\n",
       "    </tr>\n",
       "    <tr>\n",
       "      <th>5804</th>\n",
       "      <td>3.009343e+05</td>\n",
       "      <td>1.812241e+05</td>\n",
       "      <td>119710.123864</td>\n",
       "      <td>2.975266e+05</td>\n",
       "    </tr>\n",
       "    <tr>\n",
       "      <th>26718</th>\n",
       "      <td>4.750249e+05</td>\n",
       "      <td>5.400591e+05</td>\n",
       "      <td>-65034.266158</td>\n",
       "      <td>4.996802e+05</td>\n",
       "    </tr>\n",
       "  </tbody>\n",
       "</table>\n",
       "</div>"
      ],
      "text/plain": [
       "         ANNUAL TAX  ANNUAL TAX TEST_PRED          ERROR     Y_RF_PRED\n",
       "15245  1.284772e+06          1.277321e+06    7451.159187  1.284772e+06\n",
       "21122  6.465618e+05          7.367901e+05  -90228.311919  6.960452e+05\n",
       "11605  1.752327e+05          1.703677e+05    4865.016804  1.722209e+05\n",
       "5804   3.009343e+05          1.812241e+05  119710.123864  2.975266e+05\n",
       "26718  4.750249e+05          5.400591e+05  -65034.266158  4.996802e+05"
      ]
     },
     "execution_count": 75,
     "metadata": {},
     "output_type": "execute_result"
    }
   ],
   "source": [
    "result.head()"
   ]
  },
  {
   "cell_type": "code",
   "execution_count": 76,
   "metadata": {},
   "outputs": [
    {
     "data": {
      "image/png": "[encoded data removed]",
      "text/plain": [
       "<Figure size 1152x720 with 1 Axes>"
      ]
     },
     "metadata": {
      "needs_background": "light"
     },
     "output_type": "display_data"
    }
   ],
   "source": [
    "#SHOWING THE COMPARISON OF ANNUAL TAX AND RANDOM FOREST PREDICTED ANNUAL TAX\n",
    "\n",
    "result[[\"ANNUAL TAX\", \"Y_RF_PRED\"]].head(10).plot(kind = \"bar\", figsize = (16, 10))\n",
    "plt.grid(which = \"major\", linestyle = \"-\", linewidth = \"0.5\", color = \"green\")\n",
    "plt.grid(which = \"minor\", linestyle = \":\", linewidth = \"0.5\", color = \"black\")\n",
    "plt.show()"
   ]
  },
  {
   "cell_type": "code",
   "execution_count": 77,
   "metadata": {},
   "outputs": [
    {
     "name": "stderr",
     "output_type": "stream",
     "text": [
      "C:\\Users\\TheForbesMaterial\\Anaconda3\\lib\\site-packages\\ipykernel_launcher.py:1: SettingWithCopyWarning: \n",
      "A value is trying to be set on a copy of a slice from a DataFrame.\n",
      "Try using .loc[row_indexer,col_indexer] = value instead\n",
      "\n",
      "See the caveats in the documentation: http://pandas.pydata.org/pandas-docs/stable/indexing.html#indexing-view-versus-copy\n",
      "  \"\"\"Entry point for launching an IPython kernel.\n"
     ]
    }
   ],
   "source": [
    "result[\"RF ERROR\"] = result[\"ANNUAL TAX\"].subtract(result[\"Y_RF_PRED\"])"
   ]
  },
  {
   "cell_type": "code",
   "execution_count": 78,
   "metadata": {},
   "outputs": [
    {
     "data": {
      "text/html": [
       "<div>\n",
       "<style scoped>\n",
       "    .dataframe tbody tr th:only-of-type {\n",
       "        vertical-align: middle;\n",
       "    }\n",
       "\n",
       "    .dataframe tbody tr th {\n",
       "        vertical-align: top;\n",
       "    }\n",
       "\n",
       "    .dataframe thead th {\n",
       "        text-align: right;\n",
       "    }\n",
       "</style>\n",
       "<table border=\"1\" class=\"dataframe\">\n",
       "  <thead>\n",
       "    <tr style=\"text-align: right;\">\n",
       "      <th></th>\n",
       "      <th>ANNUAL TAX</th>\n",
       "      <th>ANNUAL TAX TEST_PRED</th>\n",
       "      <th>ERROR</th>\n",
       "      <th>Y_RF_PRED</th>\n",
       "      <th>RF ERROR</th>\n",
       "    </tr>\n",
       "  </thead>\n",
       "  <tbody>\n",
       "    <tr>\n",
       "      <th>15245</th>\n",
       "      <td>1.284772e+06</td>\n",
       "      <td>1.277321e+06</td>\n",
       "      <td>7451.159187</td>\n",
       "      <td>1.284772e+06</td>\n",
       "      <td>0.000000</td>\n",
       "    </tr>\n",
       "    <tr>\n",
       "      <th>21122</th>\n",
       "      <td>6.465618e+05</td>\n",
       "      <td>7.367901e+05</td>\n",
       "      <td>-90228.311919</td>\n",
       "      <td>6.960452e+05</td>\n",
       "      <td>-49483.359702</td>\n",
       "    </tr>\n",
       "    <tr>\n",
       "      <th>11605</th>\n",
       "      <td>1.752327e+05</td>\n",
       "      <td>1.703677e+05</td>\n",
       "      <td>4865.016804</td>\n",
       "      <td>1.722209e+05</td>\n",
       "      <td>3011.750424</td>\n",
       "    </tr>\n",
       "    <tr>\n",
       "      <th>5804</th>\n",
       "      <td>3.009343e+05</td>\n",
       "      <td>1.812241e+05</td>\n",
       "      <td>119710.123864</td>\n",
       "      <td>2.975266e+05</td>\n",
       "      <td>3407.667358</td>\n",
       "    </tr>\n",
       "    <tr>\n",
       "      <th>26718</th>\n",
       "      <td>4.750249e+05</td>\n",
       "      <td>5.400591e+05</td>\n",
       "      <td>-65034.266158</td>\n",
       "      <td>4.996802e+05</td>\n",
       "      <td>-24655.307078</td>\n",
       "    </tr>\n",
       "  </tbody>\n",
       "</table>\n",
       "</div>"
      ],
      "text/plain": [
       "         ANNUAL TAX  ANNUAL TAX TEST_PRED          ERROR     Y_RF_PRED  \\\n",
       "15245  1.284772e+06          1.277321e+06    7451.159187  1.284772e+06   \n",
       "21122  6.465618e+05          7.367901e+05  -90228.311919  6.960452e+05   \n",
       "11605  1.752327e+05          1.703677e+05    4865.016804  1.722209e+05   \n",
       "5804   3.009343e+05          1.812241e+05  119710.123864  2.975266e+05   \n",
       "26718  4.750249e+05          5.400591e+05  -65034.266158  4.996802e+05   \n",
       "\n",
       "           RF ERROR  \n",
       "15245      0.000000  \n",
       "21122 -49483.359702  \n",
       "11605   3011.750424  \n",
       "5804    3407.667358  \n",
       "26718 -24655.307078  "
      ]
     },
     "execution_count": 78,
     "metadata": {},
     "output_type": "execute_result"
    }
   ],
   "source": [
    "result.head()"
   ]
  },
  {
   "cell_type": "code",
   "execution_count": null,
   "metadata": {},
   "outputs": [],
   "source": [
    "Y_test.head()"
   ]
  },
  {
   "cell_type": "code",
   "execution_count": null,
   "metadata": {},
   "outputs": [],
   "source": [
    "Y_test.drop(\"Y_RF_PRED\", axis = 1, inplace = True)\n",
    "Y_test.drop(\"ERROR\", axis = 1, inplace = True)"
   ]
  },
  {
   "cell_type": "code",
   "execution_count": 71,
   "metadata": {},
   "outputs": [
    {
     "name": "stdout",
     "output_type": "stream",
     "text": [
      "MEAN ABSOLUTE ERROR: 105153.4599435009\n",
      "MEAN SQUARED ERROR: 209963835106.9254\n",
      "ROOT MEAN SQUARED ERROR: 458218.10866324935\n"
     ]
    }
   ],
   "source": [
    "print('MEAN ABSOLUTE ERROR:', metrics.mean_absolute_error(Y_test, Y_rf_pred))  \n",
    "print('MEAN SQUARED ERROR:', metrics.mean_squared_error(Y_test, Y_rf_pred))  \n",
    "print('ROOT MEAN SQUARED ERROR:', np.sqrt(metrics.mean_squared_error(Y_test, Y_rf_pred)))"
   ]
  },
  {
   "cell_type": "code",
   "execution_count": 81,
   "metadata": {},
   "outputs": [
    {
     "name": "stderr",
     "output_type": "stream",
     "text": [
      "C:\\Users\\TheForbesMaterial\\Anaconda3\\lib\\site-packages\\ipykernel_launcher.py:3: SettingWithCopyWarning: \n",
      "A value is trying to be set on a copy of a slice from a DataFrame.\n",
      "Try using .loc[row_indexer,col_indexer] = value instead\n",
      "\n",
      "See the caveats in the documentation: http://pandas.pydata.org/pandas-docs/stable/indexing.html#indexing-view-versus-copy\n",
      "  This is separate from the ipykernel package so we can avoid doing imports until\n"
     ]
    }
   ],
   "source": [
    "#CHECKING THE MEAN ABSOLUTE PERCENTAGE BETWEEN ANNUAL TAX AND Y_RF_PRED\n",
    "\n",
    "result[\"MAPE\"] = 100 * (result[\"RF ERROR\"]/result[\"ANNUAL TAX\"])\n"
   ]
  },
  {
   "cell_type": "code",
   "execution_count": 83,
   "metadata": {},
   "outputs": [
    {
     "data": {
      "text/html": [
       "<div>\n",
       "<style scoped>\n",
       "    .dataframe tbody tr th:only-of-type {\n",
       "        vertical-align: middle;\n",
       "    }\n",
       "\n",
       "    .dataframe tbody tr th {\n",
       "        vertical-align: top;\n",
       "    }\n",
       "\n",
       "    .dataframe thead th {\n",
       "        text-align: right;\n",
       "    }\n",
       "</style>\n",
       "<table border=\"1\" class=\"dataframe\">\n",
       "  <thead>\n",
       "    <tr style=\"text-align: right;\">\n",
       "      <th></th>\n",
       "      <th>ANNUAL TAX</th>\n",
       "      <th>ANNUAL TAX TEST_PRED</th>\n",
       "      <th>ERROR</th>\n",
       "      <th>Y_RF_PRED</th>\n",
       "      <th>RF ERROR</th>\n",
       "      <th>LR ERROR</th>\n",
       "      <th>MAPE</th>\n",
       "      <th>ACCURACY</th>\n",
       "    </tr>\n",
       "  </thead>\n",
       "  <tbody>\n",
       "    <tr>\n",
       "      <th>15245</th>\n",
       "      <td>1.284772e+06</td>\n",
       "      <td>1.277321e+06</td>\n",
       "      <td>7451.159187</td>\n",
       "      <td>1.284772e+06</td>\n",
       "      <td>0.000000</td>\n",
       "      <td>7451.159187</td>\n",
       "      <td>0.000000</td>\n",
       "      <td>-inf</td>\n",
       "    </tr>\n",
       "    <tr>\n",
       "      <th>21122</th>\n",
       "      <td>6.465618e+05</td>\n",
       "      <td>7.367901e+05</td>\n",
       "      <td>-90228.311919</td>\n",
       "      <td>6.960452e+05</td>\n",
       "      <td>-49483.359702</td>\n",
       "      <td>-90228.311919</td>\n",
       "      <td>-7.653307</td>\n",
       "      <td>-inf</td>\n",
       "    </tr>\n",
       "    <tr>\n",
       "      <th>11605</th>\n",
       "      <td>1.752327e+05</td>\n",
       "      <td>1.703677e+05</td>\n",
       "      <td>4865.016804</td>\n",
       "      <td>1.722209e+05</td>\n",
       "      <td>3011.750424</td>\n",
       "      <td>4865.016804</td>\n",
       "      <td>1.718715</td>\n",
       "      <td>-inf</td>\n",
       "    </tr>\n",
       "    <tr>\n",
       "      <th>5804</th>\n",
       "      <td>3.009343e+05</td>\n",
       "      <td>1.812241e+05</td>\n",
       "      <td>119710.123864</td>\n",
       "      <td>2.975266e+05</td>\n",
       "      <td>3407.667358</td>\n",
       "      <td>119710.123864</td>\n",
       "      <td>1.132363</td>\n",
       "      <td>-inf</td>\n",
       "    </tr>\n",
       "    <tr>\n",
       "      <th>26718</th>\n",
       "      <td>4.750249e+05</td>\n",
       "      <td>5.400591e+05</td>\n",
       "      <td>-65034.266158</td>\n",
       "      <td>4.996802e+05</td>\n",
       "      <td>-24655.307078</td>\n",
       "      <td>-65034.266158</td>\n",
       "      <td>-5.190319</td>\n",
       "      <td>-inf</td>\n",
       "    </tr>\n",
       "  </tbody>\n",
       "</table>\n",
       "</div>"
      ],
      "text/plain": [
       "         ANNUAL TAX  ANNUAL TAX TEST_PRED          ERROR     Y_RF_PRED  \\\n",
       "15245  1.284772e+06          1.277321e+06    7451.159187  1.284772e+06   \n",
       "21122  6.465618e+05          7.367901e+05  -90228.311919  6.960452e+05   \n",
       "11605  1.752327e+05          1.703677e+05    4865.016804  1.722209e+05   \n",
       "5804   3.009343e+05          1.812241e+05  119710.123864  2.975266e+05   \n",
       "26718  4.750249e+05          5.400591e+05  -65034.266158  4.996802e+05   \n",
       "\n",
       "           RF ERROR       LR ERROR      MAPE  ACCURACY  \n",
       "15245      0.000000    7451.159187  0.000000      -inf  \n",
       "21122 -49483.359702  -90228.311919 -7.653307      -inf  \n",
       "11605   3011.750424    4865.016804  1.718715      -inf  \n",
       "5804    3407.667358  119710.123864  1.132363      -inf  \n",
       "26718 -24655.307078  -65034.266158 -5.190319      -inf  "
      ]
     },
     "execution_count": 83,
     "metadata": {},
     "output_type": "execute_result"
    }
   ],
   "source": [
    "result.head()"
   ]
  },
  {
   "cell_type": "code",
   "execution_count": 82,
   "metadata": {},
   "outputs": [
    {
     "name": "stderr",
     "output_type": "stream",
     "text": [
      "C:\\Users\\TheForbesMaterial\\Anaconda3\\lib\\site-packages\\ipykernel_launcher.py:1: SettingWithCopyWarning: \n",
      "A value is trying to be set on a copy of a slice from a DataFrame.\n",
      "Try using .loc[row_indexer,col_indexer] = value instead\n",
      "\n",
      "See the caveats in the documentation: http://pandas.pydata.org/pandas-docs/stable/indexing.html#indexing-view-versus-copy\n",
      "  \"\"\"Entry point for launching an IPython kernel.\n"
     ]
    }
   ],
   "source": [
    "result[\"ACCURACY\"] = 100 * result[\"MAPE\"].mean()\n"
   ]
  },
  {
   "cell_type": "code",
   "execution_count": 85,
   "metadata": {},
   "outputs": [
    {
     "data": {
      "text/html": [
       "<div>\n",
       "<style scoped>\n",
       "    .dataframe tbody tr th:only-of-type {\n",
       "        vertical-align: middle;\n",
       "    }\n",
       "\n",
       "    .dataframe tbody tr th {\n",
       "        vertical-align: top;\n",
       "    }\n",
       "\n",
       "    .dataframe thead th {\n",
       "        text-align: right;\n",
       "    }\n",
       "</style>\n",
       "<table border=\"1\" class=\"dataframe\">\n",
       "  <thead>\n",
       "    <tr style=\"text-align: right;\">\n",
       "      <th></th>\n",
       "      <th>ANNUAL TAX</th>\n",
       "      <th>ANNUAL TAX TEST_PRED</th>\n",
       "      <th>ERROR</th>\n",
       "      <th>Y_RF_PRED</th>\n",
       "      <th>RF ERROR</th>\n",
       "      <th>LR ERROR</th>\n",
       "      <th>MAPE</th>\n",
       "      <th>ACCURACY</th>\n",
       "    </tr>\n",
       "  </thead>\n",
       "  <tbody>\n",
       "    <tr>\n",
       "      <th>15245</th>\n",
       "      <td>1.284772e+06</td>\n",
       "      <td>1.277321e+06</td>\n",
       "      <td>7451.159187</td>\n",
       "      <td>1.284772e+06</td>\n",
       "      <td>0.000000</td>\n",
       "      <td>7451.159187</td>\n",
       "      <td>0.000000</td>\n",
       "      <td>-inf</td>\n",
       "    </tr>\n",
       "    <tr>\n",
       "      <th>21122</th>\n",
       "      <td>6.465618e+05</td>\n",
       "      <td>7.367901e+05</td>\n",
       "      <td>-90228.311919</td>\n",
       "      <td>6.960452e+05</td>\n",
       "      <td>-49483.359702</td>\n",
       "      <td>-90228.311919</td>\n",
       "      <td>-7.653307</td>\n",
       "      <td>-inf</td>\n",
       "    </tr>\n",
       "    <tr>\n",
       "      <th>11605</th>\n",
       "      <td>1.752327e+05</td>\n",
       "      <td>1.703677e+05</td>\n",
       "      <td>4865.016804</td>\n",
       "      <td>1.722209e+05</td>\n",
       "      <td>3011.750424</td>\n",
       "      <td>4865.016804</td>\n",
       "      <td>1.718715</td>\n",
       "      <td>-inf</td>\n",
       "    </tr>\n",
       "    <tr>\n",
       "      <th>5804</th>\n",
       "      <td>3.009343e+05</td>\n",
       "      <td>1.812241e+05</td>\n",
       "      <td>119710.123864</td>\n",
       "      <td>2.975266e+05</td>\n",
       "      <td>3407.667358</td>\n",
       "      <td>119710.123864</td>\n",
       "      <td>1.132363</td>\n",
       "      <td>-inf</td>\n",
       "    </tr>\n",
       "    <tr>\n",
       "      <th>26718</th>\n",
       "      <td>4.750249e+05</td>\n",
       "      <td>5.400591e+05</td>\n",
       "      <td>-65034.266158</td>\n",
       "      <td>4.996802e+05</td>\n",
       "      <td>-24655.307078</td>\n",
       "      <td>-65034.266158</td>\n",
       "      <td>-5.190319</td>\n",
       "      <td>-inf</td>\n",
       "    </tr>\n",
       "  </tbody>\n",
       "</table>\n",
       "</div>"
      ],
      "text/plain": [
       "         ANNUAL TAX  ANNUAL TAX TEST_PRED          ERROR     Y_RF_PRED  \\\n",
       "15245  1.284772e+06          1.277321e+06    7451.159187  1.284772e+06   \n",
       "21122  6.465618e+05          7.367901e+05  -90228.311919  6.960452e+05   \n",
       "11605  1.752327e+05          1.703677e+05    4865.016804  1.722209e+05   \n",
       "5804   3.009343e+05          1.812241e+05  119710.123864  2.975266e+05   \n",
       "26718  4.750249e+05          5.400591e+05  -65034.266158  4.996802e+05   \n",
       "\n",
       "           RF ERROR       LR ERROR      MAPE  ACCURACY  \n",
       "15245      0.000000    7451.159187  0.000000      -inf  \n",
       "21122 -49483.359702  -90228.311919 -7.653307      -inf  \n",
       "11605   3011.750424    4865.016804  1.718715      -inf  \n",
       "5804    3407.667358  119710.123864  1.132363      -inf  \n",
       "26718 -24655.307078  -65034.266158 -5.190319      -inf  "
      ]
     },
     "execution_count": 85,
     "metadata": {},
     "output_type": "execute_result"
    }
   ],
   "source": [
    "result.head()"
   ]
  },
  {
   "cell_type": "markdown",
   "metadata": {},
   "source": [
    "CONCLUSION\n",
    "\n",
    "Random Forest Regression performed better than Linear Regression."
   ]
  }
 ],
 "metadata": {
  "kernelspec": {
   "display_name": "Python 3",
   "language": "python",
   "name": "python3"
  },
  "language_info": {
   "codemirror_mode": {
    "name": "ipython",
    "version": 3
   },
   "file_extension": ".py",
   "mimetype": "text/x-python",
   "name": "python",
   "nbconvert_exporter": "python",
   "pygments_lexer": "ipython3",
   "version": "3.6.8"
  }
 },
 "nbformat": 4,
 "nbformat_minor": 2
}
